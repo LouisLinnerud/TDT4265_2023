{
 "cells": [
  {
   "attachments": {},
   "cell_type": "markdown",
   "metadata": {},
   "source": [
    "# Task 4"
   ]
  },
  {
   "cell_type": "code",
   "execution_count": null,
   "metadata": {
    "vscode": {
     "languageId": "python"
    }
   },
   "outputs": [],
   "source": [
    "import pathlib\n",
    "import matplotlib.pyplot as plt\n",
    "import utils\n",
    "from torch import nn\n",
    "from dataloaders import load_cifar10\n",
    "from trainer import Trainer, compute_loss_and_accuracy"
   ]
  },
  {
   "cell_type": "code",
   "execution_count": null,
   "metadata": {
    "vscode": {
     "languageId": "python"
    }
   },
   "outputs": [],
   "source": [
    "def create_plots(trainer: Trainer, name: str):\n",
    "    plot_path = pathlib.Path(\"plots\")\n",
    "    plot_path.mkdir(exist_ok=True)\n",
    "    # Save plots and show them\n",
    "    plt.figure(figsize=(20, 8))\n",
    "    plt.subplot(1, 2, 1)\n",
    "    plt.grid()\n",
    "    plt.title(\"Cross Entropy Loss\")\n",
    "    utils.plot_loss(trainer.train_history[\"loss\"], label=\"Training loss\", npoints_to_average=10)\n",
    "    utils.plot_loss(trainer.validation_history[\"loss\"], label=\"Validation loss\")\n",
    "    plt.legend()\n",
    "    plt.subplot(1, 2, 2)\n",
    "    plt.title(\"Accuracy\")\n",
    "    plt.grid()\n",
    "    utils.plot_loss(trainer.validation_history[\"accuracy\"], label=\"Validation Accuracy\")\n",
    "    plt.legend()\n",
    "    plt.savefig(plot_path.joinpath(f\"{name}_plot.png\"))\n",
    "    plt.show()"
   ]
  },
  {
   "cell_type": "code",
   "execution_count": null,
   "metadata": {
    "vscode": {
     "languageId": "python"
    }
   },
   "outputs": [],
   "source": [
    "class ResNetModel(nn.Module):\n",
    "    def __init__(self):\n",
    "        super().__init__()\n",
    "        self.model = torchvision.models.resnet18(pretrained=True)\n",
    "        self.model.fc = nn.Linear(512, 10) # No need to apply softmax,\n",
    "        # as this is done in nn.CrossEntropyLoss\n",
    "        for param in self.model.parameters(): # Freeze all parameters\n",
    "            param.requires_grad = False\n",
    "        for param in self.model.fc.parameters(): # Unfreeze the last fully-connected\n",
    "            param.requires_grad = True # layer\n",
    "        for param in self.model.layer4.parameters(): # Unfreeze the last 5 convolutional\n",
    "            param.requires_grad = True # layers\n",
    "        self.batch_size = 32\n",
    "\n",
    "    def forward(self, x):\n",
    "        x = self.model(x)\n",
    "        return x"
   ]
  },
  {
   "cell_type": "code",
   "execution_count": null,
   "metadata": {
    "vscode": {
     "languageId": "python"
    }
   },
   "outputs": [],
   "source": [
    "utils.set_seed(0)\n",
    "epochs = 10\n",
    "batch_size = 64\n",
    "learning_rate = 15e-3\n",
    "early_stop_count = 4\n",
    "dataloaders = load_cifar10(batch_size)\n",
    "model = Task3Model(image_channels=3, num_classes=10)\n",
    "optimizer = \"sgd\"\n",
    "trainer = Trainer(\n",
    "    batch_size,\n",
    "    learning_rate,\n",
    "    early_stop_count,\n",
    "    epochs,\n",
    "    model,\n",
    "    dataloaders,\n",
    "    optimizer\n",
    ")\n",
    "trainer.train()"
   ]
  },
  {
   "cell_type": "code",
   "execution_count": null,
   "metadata": {
    "vscode": {
     "languageId": "python"
    }
   },
   "outputs": [],
   "source": [
    "create_plots(trainer, \"task4\")"
   ]
  },
  {
   "cell_type": "code",
   "execution_count": null,
   "metadata": {
    "vscode": {
     "languageId": "python"
    }
   },
   "outputs": [],
   "source": [
    "training_loss, training_accuracy = compute_loss_and_accuracy(trainer.dataloader_train, trainer.model, trainer.loss_criterion)\n",
    "validation_loss, validation_accuracy = compute_loss_and_accuracy(trainer.dataloader_val, trainer.model, trainer.loss_criterion)\n",
    "test_loss, test_accuracy = compute_loss_and_accuracy(trainer.dataloader_test, trainer.model, trainer.loss_criterion)\n",
    "print(f\"  Training: Accuracy: {training_accuracy}, Loss: {training_loss}\")\n",
    "print(f\"Validation: Accuracy: {validation_accuracy}, Loss: {validation_loss}\")\n",
    "print(f\"      Test: Accuracy: {test_accuracy}, Loss: {test_loss}\")"
   ]
  },
  {
   "cell_type": "markdown",
   "metadata": {},
   "source": []
  }
 ],
 "metadata": {
  "kernelspec": {
   "display_name": "Python 3",
   "language": "python",
   "name": "python3"
  },
  "orig_nbformat": 4
 },
 "nbformat": 4,
 "nbformat_minor": 2
}
